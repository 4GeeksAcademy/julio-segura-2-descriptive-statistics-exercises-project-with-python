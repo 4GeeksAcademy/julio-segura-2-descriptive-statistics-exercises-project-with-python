{
    "cells": [
        {
            "cell_type": "markdown",
            "id": "ac622319",
            "metadata": {},
            "source": [
                "# Descriptive Statistics Problems"
            ]
        },
        {
            "cell_type": "markdown",
            "id": "aa8993e4",
            "metadata": {},
            "source": [
                "### Exercise 1"
            ]
        },
        {
            "cell_type": "markdown",
            "id": "5e0ab0d5",
            "metadata": {},
            "source": [
                "As right now, you are familliar with numpy, we are going to use numpy to get some data statistics.\n",
                "\n",
                "First, lets create an array of 20 elements distributed normally (Gaussian):\n",
                "\n",
                "Use the np.random.normal function to create some data, using 0,1,20 as parameters because we want a one dimentional array of 20 numbers distributed normally (Gaussian)"
            ]
        },
        {
            "cell_type": "code",
            "execution_count": 1,
            "id": "34720ab6",
            "metadata": {},
            "outputs": [
                {
                    "name": "stdout",
                    "output_type": "stream",
                    "text": [
                        "[ 0.88389311  0.19586502  0.35753652 -2.34326191 -1.08483259  0.55969629\n",
                        "  0.93946935 -0.97848104  0.50309684  0.40641447  0.32346101 -0.49341088\n",
                        " -0.79201679 -0.84236793 -1.27950266  0.24571517 -0.0441948   1.56763255\n",
                        "  1.05110868  0.40636843]\n"
                    ]
                }
            ],
            "source": [
                "#import libraries\n",
                "import numpy as np\n",
                "import random\n",
                "\n",
                "# Set seed in order to get similar results\n",
                "np.random.seed(20) \n",
                "'''La función np.random.seed() se utiliza para establecer una semilla \n",
                "que controla la generación de números aleatorios.\n",
                "\n",
                "Al ejecutar un programa que involucra números aleatorios, \n",
                "generalmente obtendrás resultados diferentes cada vez que ejecutes el programa. \n",
                "Sin embargo, en algunos casos, puede ser útil obtener los mismos resultados aleatorios repetidamente. \n",
                "Es aquí donde np.random.seed() resulta útil.\n",
                "\n",
                "Al establecer una semilla específica con np.random.seed(), \n",
                "le estás diciendo a NumPy que inicie la secuencia de números aleatorios desde un punto de partida predefinido. \n",
                "Esto significa que cada vez que ejecutes el programa con la misma semilla, \n",
                "obtendrás la misma secuencia de números aleatorios.'''\n",
                "\n",
                "# create the data\n",
                "data = np.random.normal(0,1,20)\n",
                "\n",
                "#print results\n",
                "print(data)"
            ]
        },
        {
            "cell_type": "code",
            "execution_count": 2,
            "id": "49c55822",
            "metadata": {},
            "outputs": [
                {
                    "data": {
                        "text/plain": [
                            "-0.02089055839443331"
                        ]
                    },
                    "execution_count": 2,
                    "metadata": {},
                    "output_type": "execute_result"
                }
            ],
            "source": [
                "#Use numpy to get the mean of your data\n",
                "np.mean(data)"
            ]
        },
        {
            "cell_type": "code",
            "execution_count": 3,
            "id": "03529459",
            "metadata": {},
            "outputs": [
                {
                    "data": {
                        "text/plain": [
                            "0.8644943803925116"
                        ]
                    },
                    "execution_count": 3,
                    "metadata": {},
                    "output_type": "execute_result"
                }
            ],
            "source": [
                "#get the variance of your data\n",
                "np.var(data)"
            ]
        },
        {
            "cell_type": "code",
            "execution_count": 4,
            "id": "e53f30c5",
            "metadata": {},
            "outputs": [
                {
                    "data": {
                        "text/plain": [
                            "0.9297818993680784"
                        ]
                    },
                    "execution_count": 4,
                    "metadata": {},
                    "output_type": "execute_result"
                }
            ],
            "source": [
                "# Standard deviation\n",
                "np.std(data)"
            ]
        },
        {
            "cell_type": "code",
            "execution_count": 5,
            "id": "9bce852f",
            "metadata": {},
            "outputs": [
                {
                    "name": "stderr",
                    "output_type": "stream",
                    "text": [
                        "/tmp/ipykernel_624/429314428.py:5: FutureWarning: Unlike other reduction functions (e.g. `skew`, `kurtosis`), the default behavior of `mode` typically preserves the axis it acts along. In SciPy 1.11.0, this behavior will change: the default value of `keepdims` will become False, the `axis` over which the statistic is taken will be eliminated, and the value None will no longer be accepted. Set `keepdims` to True or False to avoid this warning.\n",
                        "  stats.mode(data)\n"
                    ]
                },
                {
                    "data": {
                        "text/plain": [
                            "ModeResult(mode=array([-2.34326191]), count=array([1]))"
                        ]
                    },
                    "execution_count": 5,
                    "metadata": {},
                    "output_type": "execute_result"
                }
            ],
            "source": [
                "#import libraries and print the mode\n",
                "from scipy import stats\n",
                "\n",
                "# Mode for continuous array\n",
                "stats.mode(data)"
            ]
        },
        {
            "cell_type": "code",
            "execution_count": 6,
            "id": "c682cb6e",
            "metadata": {},
            "outputs": [
                {
                    "data": {
                        "text/plain": [
                            "0.2845880897134383"
                        ]
                    },
                    "execution_count": 6,
                    "metadata": {},
                    "output_type": "execute_result"
                }
            ],
            "source": [
                "# Median\n",
                "np.median(data)"
            ]
        },
        {
            "cell_type": "code",
            "execution_count": 7,
            "id": "39c3fabd",
            "metadata": {},
            "outputs": [
                {
                    "name": "stdout",
                    "output_type": "stream",
                    "text": [
                        "-0.8046045766175072\n",
                        "0.2845880897134383\n",
                        "0.517246702432873\n",
                        "1.5676325528903083\n",
                        "The Quantile 50 is:  0.2845880897134383 and the median is:  0.2845880897134383 . They match.\n"
                    ]
                }
            ],
            "source": [
                "# Print the Quantiles\n",
                "print(np.quantile(data,0.25))\n",
                "print(np.quantile(data,0.50))\n",
                "print(np.quantile(data,0.75))\n",
                "print(np.quantile(data,1))\n",
                "# This match with np.median, why?\n",
                "print(\"The Quantile 50 is: \", np.quantile(data,0.50), \"and the median is: \", np.median(data),\".\", \"They match.\")"
            ]
        },
        {
            "attachments": {},
            "cell_type": "markdown",
            "id": "46c70c3d",
            "metadata": {},
            "source": [
                "### Exercise 2\n",
                "\n",
                "Write a Python program to calculate the standard deviation of the following data:\n",
                "```py\n",
                "data = [4, 2, 5, 8, 6]\n",
                "```"
            ]
        },
        {
            "cell_type": "code",
            "execution_count": 9,
            "id": "d590308e",
            "metadata": {},
            "outputs": [
                {
                    "name": "stdout",
                    "output_type": "stream",
                    "text": [
                        "2.0\n"
                    ]
                },
                {
                    "data": {
                        "text/plain": [
                            "<function print(*args, sep=' ', end='\\n', file=None, flush=False)>"
                        ]
                    },
                    "execution_count": 9,
                    "metadata": {},
                    "output_type": "execute_result"
                }
            ],
            "source": [
                "import math\n",
                "import sys\n",
                "\n",
                "'''Standard deviation is a crucial concept in the fields of data analysis and statistics. \n",
                "It provides a measure of the variability or dispersion of a dataset, \n",
                "helping to determine the degree of consistency or variation within a set of values. '''\n",
                "\n",
                "'''A small standard deviation means that most of the numbers are close to the mean (average) value. \n",
                "A large standard deviation means that the values are further away from the mean.'''\n",
                "\n",
                "# Define the standard deviation function\n",
                "\n",
                "def std_dev(data):\n",
                "    n = len(data) # Guardamos el largo de los datos en una variable\n",
                "    mean = sum(data) / n # Calculamos la media (la suma de los datos dividido por el largo)\n",
                "    squared_diffs = [(x - mean) ** 2 for x in data] # Calculamos la diferencia al cuadrado\n",
                "    # esto es igual que una función:\n",
                "    # for x in data :\n",
                "        # (x - mean) ** 2\n",
                "    mean_squared_diffs = sum(squared_diffs) / n # calculamos la diferencia al cuadrado de la media\n",
                "    std_dev = mean_squared_diffs ** 0.5 # calculamos la desviación estandar\n",
                "    return std_dev\n",
                "\n",
                "data = [4, 2, 5, 8, 6]\n",
                "\n",
                "#print the data\n",
                "print(std_dev(data))\n",
                "#print the standard deviation of the data\n",
                "print "
            ]
        },
        {
            "cell_type": "markdown",
            "id": "04b71791",
            "metadata": {},
            "source": [
                "Source:\n",
                "\n",
                "https://www.w3resource.com/"
            ]
        }
    ],
    "metadata": {
        "interpreter": {
            "hash": "9248718ffe6ce6938b217e69dbcc175ea21f4c6b28a317e96c05334edae734bb"
        },
        "kernelspec": {
            "display_name": "Python 3.9.12 ('ML-BOOTCAMP')",
            "language": "python",
            "name": "python3"
        },
        "language_info": {
            "codemirror_mode": {
                "name": "ipython",
                "version": 3
            },
            "file_extension": ".py",
            "mimetype": "text/x-python",
            "name": "python",
            "nbconvert_exporter": "python",
            "pygments_lexer": "ipython3",
            "version": "3.11.3"
        }
    },
    "nbformat": 4,
    "nbformat_minor": 5
}
